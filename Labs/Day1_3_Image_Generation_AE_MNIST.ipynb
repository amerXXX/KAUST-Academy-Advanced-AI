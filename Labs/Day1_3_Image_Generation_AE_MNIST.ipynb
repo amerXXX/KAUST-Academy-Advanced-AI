{
 "cells": [
  {
   "cell_type": "markdown",
   "metadata": {},
   "source": [
    "![image.png](https://i.imgur.com/a3uAqnb.png)"
   ]
  },
  {
   "cell_type": "markdown",
   "metadata": {},
   "source": [
    "# Image Generation using Autoencoder: MNIST\n",
    "- **Images**: Handwritten digits **(28x28, grayscale)**.\n",
    "- **Classes**: 10 digit classes (0-9), but for Autoencoder we **ignore labels**.\n",
    "- **Shape**: `(batch_size, 1, 28, 28)` → 1 grayscale channel.\n",
    "  \n",
    "![MNIST image](https://i.imgur.com/TQlKspY.png)\n"
   ]
  },
  {
   "cell_type": "markdown",
   "metadata": {},
   "source": [
    "## 1️⃣ Dataset Class"
   ]
  },
  {
   "cell_type": "code",
   "execution_count": 1,
   "metadata": {
    "execution": {
     "iopub.execute_input": "2025-02-01T17:39:05.806026Z",
     "iopub.status.busy": "2025-02-01T17:39:05.805823Z",
     "iopub.status.idle": "2025-02-01T17:39:14.847361Z",
     "shell.execute_reply": "2025-02-01T17:39:14.846371Z",
     "shell.execute_reply.started": "2025-02-01T17:39:05.806005Z"
    },
    "trusted": true
   },
   "outputs": [
    {
     "name": "stdout",
     "output_type": "stream",
     "text": [
      "Downloading http://yann.lecun.com/exdb/mnist/train-images-idx3-ubyte.gz\n",
      "Failed to download (trying next):\n",
      "<urlopen error [Errno 111] Connection refused>\n",
      "\n",
      "Downloading https://ossci-datasets.s3.amazonaws.com/mnist/train-images-idx3-ubyte.gz\n",
      "Downloading https://ossci-datasets.s3.amazonaws.com/mnist/train-images-idx3-ubyte.gz to ./datasets/MNIST/raw/train-images-idx3-ubyte.gz\n"
     ]
    },
    {
     "name": "stderr",
     "output_type": "stream",
     "text": [
      "100%|██████████| 9.91M/9.91M [00:00<00:00, 16.7MB/s]\n"
     ]
    },
    {
     "name": "stdout",
     "output_type": "stream",
     "text": [
      "Extracting ./datasets/MNIST/raw/train-images-idx3-ubyte.gz to ./datasets/MNIST/raw\n",
      "\n",
      "Downloading http://yann.lecun.com/exdb/mnist/train-labels-idx1-ubyte.gz\n",
      "Failed to download (trying next):\n",
      "<urlopen error [Errno 111] Connection refused>\n",
      "\n",
      "Downloading https://ossci-datasets.s3.amazonaws.com/mnist/train-labels-idx1-ubyte.gz\n",
      "Downloading https://ossci-datasets.s3.amazonaws.com/mnist/train-labels-idx1-ubyte.gz to ./datasets/MNIST/raw/train-labels-idx1-ubyte.gz\n"
     ]
    },
    {
     "name": "stderr",
     "output_type": "stream",
     "text": [
      "100%|██████████| 28.9k/28.9k [00:00<00:00, 457kB/s]\n"
     ]
    },
    {
     "name": "stdout",
     "output_type": "stream",
     "text": [
      "Extracting ./datasets/MNIST/raw/train-labels-idx1-ubyte.gz to ./datasets/MNIST/raw\n",
      "\n",
      "Downloading http://yann.lecun.com/exdb/mnist/t10k-images-idx3-ubyte.gz\n",
      "Failed to download (trying next):\n",
      "<urlopen error [Errno 111] Connection refused>\n",
      "\n",
      "Downloading https://ossci-datasets.s3.amazonaws.com/mnist/t10k-images-idx3-ubyte.gz\n",
      "Downloading https://ossci-datasets.s3.amazonaws.com/mnist/t10k-images-idx3-ubyte.gz to ./datasets/MNIST/raw/t10k-images-idx3-ubyte.gz\n"
     ]
    },
    {
     "name": "stderr",
     "output_type": "stream",
     "text": [
      "100%|██████████| 1.65M/1.65M [00:00<00:00, 4.21MB/s]\n"
     ]
    },
    {
     "name": "stdout",
     "output_type": "stream",
     "text": [
      "Extracting ./datasets/MNIST/raw/t10k-images-idx3-ubyte.gz to ./datasets/MNIST/raw\n",
      "\n",
      "Downloading http://yann.lecun.com/exdb/mnist/t10k-labels-idx1-ubyte.gz\n",
      "Failed to download (trying next):\n",
      "<urlopen error [Errno 111] Connection refused>\n",
      "\n",
      "Downloading https://ossci-datasets.s3.amazonaws.com/mnist/t10k-labels-idx1-ubyte.gz\n",
      "Downloading https://ossci-datasets.s3.amazonaws.com/mnist/t10k-labels-idx1-ubyte.gz to ./datasets/MNIST/raw/t10k-labels-idx1-ubyte.gz\n"
     ]
    },
    {
     "name": "stderr",
     "output_type": "stream",
     "text": [
      "100%|██████████| 4.54k/4.54k [00:00<00:00, 6.21MB/s]"
     ]
    },
    {
     "name": "stdout",
     "output_type": "stream",
     "text": [
      "Extracting ./datasets/MNIST/raw/t10k-labels-idx1-ubyte.gz to ./datasets/MNIST/raw\n",
      "\n",
      "Training samples: 60000\n"
     ]
    },
    {
     "name": "stderr",
     "output_type": "stream",
     "text": [
      "\n"
     ]
    }
   ],
   "source": [
    "import torch\n",
    "import torchvision.transforms as transforms\n",
    "from torchvision.datasets import MNIST\n",
    "from torch.utils.data import DataLoader\n",
    "\n",
    "# Define transformations (convert to tensor)\n",
    "transform = transforms.Compose([\n",
    "    transforms.ToTensor(),  # Convert to tensor\n",
    "])\n",
    "\n",
    "# Load MNIST dataset\n",
    "train_dataset = MNIST(root=\"./datasets\", train=True, transform=transform, download=True)\n",
    "\n",
    "# Create DataLoader\n",
    "batch_size = 64\n",
    "train_loader = DataLoader(train_dataset, batch_size=batch_size, shuffle=True, num_workers=2)\n",
    "\n",
    "# Check dataset size\n",
    "print(f\"Training samples: {len(train_dataset)}\")\n"
   ]
  },
  {
   "cell_type": "markdown",
   "metadata": {},
   "source": [
    "### Let's display some images"
   ]
  },
  {
   "cell_type": "code",
   "execution_count": 2,
   "metadata": {
    "execution": {
     "iopub.execute_input": "2025-02-01T17:39:14.848883Z",
     "iopub.status.busy": "2025-02-01T17:39:14.848391Z",
     "iopub.status.idle": "2025-02-01T17:39:15.258086Z",
     "shell.execute_reply": "2025-02-01T17:39:15.256939Z",
     "shell.execute_reply.started": "2025-02-01T17:39:14.848848Z"
    },
    "trusted": true
   },
   "outputs": [
    {
     "data": {
      "image/png": "[encoded data removed]",
      "text/plain": [
       "<Figure size 1000x500 with 10 Axes>"
      ]
     },
     "metadata": {},
     "output_type": "display_data"
    },
    {
     "name": "stdout",
     "output_type": "stream",
     "text": [
      "Shape of one image tensor: torch.Size([1, 28, 28])\n"
     ]
    }
   ],
   "source": [
    "import matplotlib.pyplot as plt\n",
    "import numpy as np\n",
    "\n",
    "# Get a batch of training data\n",
    "data_iter = iter(train_loader)\n",
    "images, _ = next(data_iter)  # Labels are ignored in Autoencoder\n",
    "\n",
    "# Show images\n",
    "fig, axes = plt.subplots(2, 5, figsize=(10, 5))\n",
    "for i, ax in enumerate(axes.flat):\n",
    "    img = images[i].squeeze(0)  # Remove channel dimension (1, 28, 28) → (28, 28)\n",
    "    \n",
    "    ax.imshow(img.numpy(), cmap=\"gray\")\n",
    "    ax.axis(\"off\")\n",
    "\n",
    "plt.show()\n",
    "\n",
    "# Show shape of one image\n",
    "print(\"Shape of one image tensor:\", images[0].shape)  # Expected: (1, 28, 28)\n"
   ]
  },
  {
   "cell_type": "markdown",
   "metadata": {},
   "source": [
    "## 2️⃣ Model Class"
   ]
  },
  {
   "cell_type": "markdown",
   "metadata": {},
   "source": [
    "# **📌 Autoencoder Model**\n",
    "An **Autoencoder** is a type of neural network that learns to **compress (encode) and reconstruct (decode) input data**.\n",
    "\n",
    "## **🔹 Model Structure**\n",
    "1️⃣ **Encoder**\n",
    "   - **Conv2D Layers** → Extract important features.\n",
    "   - **Fully Connected Layer** → Reduce to a compressed **encoding vector**.\n",
    "   - Output: **Low-dimensional representation** of the input.\n",
    "\n",
    "2️⃣ **Decoder**\n",
    "   - **Fully Connected Layer** → Expands compressed representation.\n",
    "   - **Transpose Convolution Layers** → Reconstructs the input.\n",
    "   - Output: **Reconstructed image** (same shape as input).\n",
    "\n",
    "![image.png](https://i.imgur.com/SzuIOLi.png)\n",
    "---\n",
    "## **📌 Expected Input & Output Shapes**\n",
    "- **Input:** `(batch_size, 1, 28, 28)`  \n",
    "- **Encoded Representation:** `(batch_size, encoding_dim)`  \n",
    "- **Decoded Output:** `(batch_size, 1, 28, 28)`"
   ]
  },
  {
   "cell_type": "code",
   "execution_count": 16,
   "metadata": {
    "execution": {
     "iopub.execute_input": "2025-02-01T17:44:57.609101Z",
     "iopub.status.busy": "2025-02-01T17:44:57.608800Z",
     "iopub.status.idle": "2025-02-01T17:44:57.616310Z",
     "shell.execute_reply": "2025-02-01T17:44:57.615373Z",
     "shell.execute_reply.started": "2025-02-01T17:44:57.609076Z"
    },
    "trusted": true
   },
   "outputs": [],
   "source": [
    "import torch.nn as nn\n",
    "\n",
    "# Define Autoencoder Model\n",
    "class CNNAutoEncoder(nn.Module):\n",
    "    def __init__(self, encoding_dim=8):\n",
    "        super(CNNAutoEncoder, self).__init__()\n",
    "\n",
    "        # Encoder (Feature Extraction)\n",
    "        self.encoder = nn.Sequential(\n",
    "            nn.Conv2d(1, 16, 3, 2, 1),  # (28x28) → (14x14)\n",
    "            nn.BatchNorm2d(16),\n",
    "            nn.LeakyReLU(),\n",
    "            nn.Conv2d(16, 32, 3, 2, 1), # (14x14) → (7x7)\n",
    "            nn.BatchNorm2d(32),\n",
    "            nn.LeakyReLU(),\n",
    "            nn.Flatten(),  # Flatten to vector\n",
    "            nn.Linear(32 * 7 * 7, encoding_dim),\n",
    "            nn.BatchNorm1d(encoding_dim),\n",
    "            nn.Tanh(),\n",
    "        )\n",
    "\n",
    "        # Decoder (Reconstruction)\n",
    "        self.decoder = nn.Sequential(\n",
    "            nn.Linear(encoding_dim, 32 * 7 * 7),\n",
    "            nn.BatchNorm1d(32 * 7 * 7),\n",
    "            nn.LeakyReLU(),\n",
    "            nn.Unflatten(1, (32, 7, 7)),  # Reshape back\n",
    "            nn.ConvTranspose2d(32, 16, 3, 2, 1, output_padding=1),  # (7x7) → (14x14)\n",
    "            nn.BatchNorm2d(16),\n",
    "            nn.LeakyReLU(),\n",
    "            nn.ConvTranspose2d(16, 1, 3, 2, 1, output_padding=1),  # (14x14) → (28x28)\n",
    "            nn.Sigmoid(),  # Normalize pixel values\n",
    "        )\n",
    "\n",
    "    def forward(self, x):\n",
    "        encoder_out = self.encoder(x)\n",
    "        decoder_out = self.decoder(encoder_out)\n",
    "        return encoder_out, decoder_out"
   ]
  },
  {
   "cell_type": "markdown",
   "metadata": {},
   "source": [
    "## 3️⃣ Training and Validation Loops"
   ]
  },
  {
   "cell_type": "markdown",
   "metadata": {},
   "source": [
    "We will train a model and show images instantly without a validation loop.\n",
    "\n",
    "1️⃣ **Forward Pass** → Encode & Decode the image.  \n",
    "2️⃣ **Compute Loss** → Measure the difference between input & reconstructed output.  \n",
    "3️⃣ **Backward Pass** → Adjust model parameters using backpropagation.  \n"
   ]
  },
  {
   "cell_type": "code",
   "execution_count": 17,
   "metadata": {
    "execution": {
     "iopub.execute_input": "2025-02-01T17:44:58.198288Z",
     "iopub.status.busy": "2025-02-01T17:44:58.197960Z",
     "iopub.status.idle": "2025-02-01T17:44:58.203270Z",
     "shell.execute_reply": "2025-02-01T17:44:58.202341Z",
     "shell.execute_reply.started": "2025-02-01T17:44:58.198257Z"
    },
    "trusted": true
   },
   "outputs": [],
   "source": [
    "from tqdm import tqdm    # Shows progress bar\n",
    "\n",
    "# 🔹 Training Loop\n",
    "def train_one_epoch(model, dataloader, criterion, optimizer, device):\n",
    "    model.train()  # Set model to training mode\n",
    "    total_loss = 0\n",
    "\n",
    "    for images, _ in tqdm(dataloader):  # Ignore labels since Autoencoders don't use them\n",
    "        images = images.to(device)\n",
    "\n",
    "        _, reconstructions = model(images)  # Forward pass (encoder + decoder)\n",
    "        loss = criterion(reconstructions, images)  # Compute reconstruction loss\n",
    "\n",
    "        optimizer.zero_grad()  # Reset gradients\n",
    "        loss.backward()  # Backpropagation\n",
    "        optimizer.step()  # Update weights\n",
    "\n",
    "        total_loss += loss.item()\n",
    "\n",
    "    avg_loss = total_loss / len(dataloader)\n",
    "    return avg_loss  # No accuracy since it's not classification\n"
   ]
  },
  {
   "cell_type": "markdown",
   "metadata": {},
   "source": [
    "## 4️⃣ Running Training"
   ]
  },
  {
   "cell_type": "markdown",
   "metadata": {},
   "source": [
    "Unlike classification, Autoencoders use **MSE Loss** to compare the reconstructed image with the input.\n"
   ]
  },
  {
   "cell_type": "code",
   "execution_count": 18,
   "metadata": {
    "execution": {
     "iopub.execute_input": "2025-02-01T17:44:59.997677Z",
     "iopub.status.busy": "2025-02-01T17:44:59.997308Z",
     "iopub.status.idle": "2025-02-01T17:47:00.080321Z",
     "shell.execute_reply": "2025-02-01T17:47:00.079299Z",
     "shell.execute_reply.started": "2025-02-01T17:44:59.997645Z"
    },
    "trusted": true
   },
   "outputs": [
    {
     "name": "stdout",
     "output_type": "stream",
     "text": [
      "CNNAutoEncoder(\n",
      "  (encoder): Sequential(\n",
      "    (0): Conv2d(1, 16, kernel_size=(3, 3), stride=(2, 2), padding=(1, 1))\n",
      "    (1): BatchNorm2d(16, eps=1e-05, momentum=0.1, affine=True, track_running_stats=True)\n",
      "    (2): LeakyReLU(negative_slope=0.01)\n",
      "    (3): Conv2d(16, 32, kernel_size=(3, 3), stride=(2, 2), padding=(1, 1))\n",
      "    (4): BatchNorm2d(32, eps=1e-05, momentum=0.1, affine=True, track_running_stats=True)\n",
      "    (5): LeakyReLU(negative_slope=0.01)\n",
      "    (6): Flatten(start_dim=1, end_dim=-1)\n",
      "    (7): Linear(in_features=1568, out_features=8, bias=True)\n",
      "    (8): BatchNorm1d(8, eps=1e-05, momentum=0.1, affine=True, track_running_stats=True)\n",
      "    (9): Tanh()\n",
      "  )\n",
      "  (decoder): Sequential(\n",
      "    (0): Linear(in_features=8, out_features=1568, bias=True)\n",
      "    (1): BatchNorm1d(1568, eps=1e-05, momentum=0.1, affine=True, track_running_stats=True)\n",
      "    (2): LeakyReLU(negative_slope=0.01)\n",
      "    (3): Unflatten(dim=1, unflattened_size=(32, 7, 7))\n",
      "    (4): ConvTranspose2d(32, 16, kernel_size=(3, 3), stride=(2, 2), padding=(1, 1), output_padding=(1, 1))\n",
      "    (5): BatchNorm2d(16, eps=1e-05, momentum=0.1, affine=True, track_running_stats=True)\n",
      "    (6): LeakyReLU(negative_slope=0.01)\n",
      "    (7): ConvTranspose2d(16, 1, kernel_size=(3, 3), stride=(2, 2), padding=(1, 1), output_padding=(1, 1))\n",
      "    (8): Sigmoid()\n",
      "  )\n",
      ")\n"
     ]
    },
    {
     "name": "stderr",
     "output_type": "stream",
     "text": [
      "100%|██████████| 938/938 [00:06<00:00, 152.09it/s]\n"
     ]
    },
    {
     "name": "stdout",
     "output_type": "stream",
     "text": [
      "Epoch 1/20, Loss = 0.1196\n"
     ]
    },
    {
     "name": "stderr",
     "output_type": "stream",
     "text": [
      "100%|██████████| 938/938 [00:05<00:00, 156.75it/s]\n"
     ]
    },
    {
     "name": "stdout",
     "output_type": "stream",
     "text": [
      "Epoch 2/20, Loss = 0.0547\n"
     ]
    },
    {
     "name": "stderr",
     "output_type": "stream",
     "text": [
      "100%|██████████| 938/938 [00:05<00:00, 156.91it/s]\n"
     ]
    },
    {
     "name": "stdout",
     "output_type": "stream",
     "text": [
      "Epoch 3/20, Loss = 0.0403\n"
     ]
    },
    {
     "name": "stderr",
     "output_type": "stream",
     "text": [
      "100%|██████████| 938/938 [00:06<00:00, 156.01it/s]\n"
     ]
    },
    {
     "name": "stdout",
     "output_type": "stream",
     "text": [
      "Epoch 4/20, Loss = 0.0347\n"
     ]
    },
    {
     "name": "stderr",
     "output_type": "stream",
     "text": [
      "100%|██████████| 938/938 [00:06<00:00, 155.85it/s]\n"
     ]
    },
    {
     "name": "stdout",
     "output_type": "stream",
     "text": [
      "Epoch 5/20, Loss = 0.0317\n"
     ]
    },
    {
     "name": "stderr",
     "output_type": "stream",
     "text": [
      "100%|██████████| 938/938 [00:06<00:00, 154.35it/s]\n"
     ]
    },
    {
     "name": "stdout",
     "output_type": "stream",
     "text": [
      "Epoch 6/20, Loss = 0.0299\n"
     ]
    },
    {
     "name": "stderr",
     "output_type": "stream",
     "text": [
      "100%|██████████| 938/938 [00:06<00:00, 155.26it/s]\n"
     ]
    },
    {
     "name": "stdout",
     "output_type": "stream",
     "text": [
      "Epoch 7/20, Loss = 0.0287\n"
     ]
    },
    {
     "name": "stderr",
     "output_type": "stream",
     "text": [
      "100%|██████████| 938/938 [00:05<00:00, 157.17it/s]\n"
     ]
    },
    {
     "name": "stdout",
     "output_type": "stream",
     "text": [
      "Epoch 8/20, Loss = 0.0278\n"
     ]
    },
    {
     "name": "stderr",
     "output_type": "stream",
     "text": [
      "100%|██████████| 938/938 [00:05<00:00, 160.40it/s]\n"
     ]
    },
    {
     "name": "stdout",
     "output_type": "stream",
     "text": [
      "Epoch 9/20, Loss = 0.0271\n"
     ]
    },
    {
     "name": "stderr",
     "output_type": "stream",
     "text": [
      "100%|██████████| 938/938 [00:05<00:00, 156.95it/s]\n"
     ]
    },
    {
     "name": "stdout",
     "output_type": "stream",
     "text": [
      "Epoch 10/20, Loss = 0.0265\n"
     ]
    },
    {
     "name": "stderr",
     "output_type": "stream",
     "text": [
      "100%|██████████| 938/938 [00:05<00:00, 157.03it/s]\n"
     ]
    },
    {
     "name": "stdout",
     "output_type": "stream",
     "text": [
      "Epoch 11/20, Loss = 0.0260\n"
     ]
    },
    {
     "name": "stderr",
     "output_type": "stream",
     "text": [
      "100%|██████████| 938/938 [00:06<00:00, 153.47it/s]\n"
     ]
    },
    {
     "name": "stdout",
     "output_type": "stream",
     "text": [
      "Epoch 12/20, Loss = 0.0256\n"
     ]
    },
    {
     "name": "stderr",
     "output_type": "stream",
     "text": [
      "100%|██████████| 938/938 [00:05<00:00, 157.08it/s]\n"
     ]
    },
    {
     "name": "stdout",
     "output_type": "stream",
     "text": [
      "Epoch 13/20, Loss = 0.0253\n"
     ]
    },
    {
     "name": "stderr",
     "output_type": "stream",
     "text": [
      "100%|██████████| 938/938 [00:05<00:00, 158.39it/s]\n"
     ]
    },
    {
     "name": "stdout",
     "output_type": "stream",
     "text": [
      "Epoch 14/20, Loss = 0.0250\n"
     ]
    },
    {
     "name": "stderr",
     "output_type": "stream",
     "text": [
      "100%|██████████| 938/938 [00:05<00:00, 156.99it/s]\n"
     ]
    },
    {
     "name": "stdout",
     "output_type": "stream",
     "text": [
      "Epoch 15/20, Loss = 0.0247\n"
     ]
    },
    {
     "name": "stderr",
     "output_type": "stream",
     "text": [
      "100%|██████████| 938/938 [00:05<00:00, 157.14it/s]\n"
     ]
    },
    {
     "name": "stdout",
     "output_type": "stream",
     "text": [
      "Epoch 16/20, Loss = 0.0245\n"
     ]
    },
    {
     "name": "stderr",
     "output_type": "stream",
     "text": [
      "100%|██████████| 938/938 [00:06<00:00, 153.51it/s]\n"
     ]
    },
    {
     "name": "stdout",
     "output_type": "stream",
     "text": [
      "Epoch 17/20, Loss = 0.0243\n"
     ]
    },
    {
     "name": "stderr",
     "output_type": "stream",
     "text": [
      "100%|██████████| 938/938 [00:05<00:00, 158.61it/s]\n"
     ]
    },
    {
     "name": "stdout",
     "output_type": "stream",
     "text": [
      "Epoch 18/20, Loss = 0.0241\n"
     ]
    },
    {
     "name": "stderr",
     "output_type": "stream",
     "text": [
      "100%|██████████| 938/938 [00:05<00:00, 157.38it/s]\n"
     ]
    },
    {
     "name": "stdout",
     "output_type": "stream",
     "text": [
      "Epoch 19/20, Loss = 0.0240\n"
     ]
    },
    {
     "name": "stderr",
     "output_type": "stream",
     "text": [
      "100%|██████████| 938/938 [00:06<00:00, 155.94it/s]"
     ]
    },
    {
     "name": "stdout",
     "output_type": "stream",
     "text": [
      "Epoch 20/20, Loss = 0.0238\n"
     ]
    },
    {
     "name": "stderr",
     "output_type": "stream",
     "text": [
      "\n"
     ]
    }
   ],
   "source": [
    "import torch.optim as optim\n",
    "\n",
    "\n",
    "# Initialize the model\n",
    "device = torch.device(\"cuda\" if torch.cuda.is_available() else \"cpu\")\n",
    "model = CNNAutoEncoder(encoding_dim=8).to(device)\n",
    "\n",
    "# Print model summary\n",
    "print(model)\n",
    "\n",
    "# Define loss function and optimizer\n",
    "criterion = nn.MSELoss()  # Measure reconstruction quality\n",
    "optimizer = optim.AdamW(model.parameters(), lr=1e-4)  # AdamW optimizer\n",
    "num_epochs = 20 # Number of epochs\n",
    "\n",
    "# Store losses for plotting\n",
    "train_losses = []\n",
    "\n",
    "# Training loop\n",
    "for epoch in range(num_epochs):\n",
    "    train_loss = train_one_epoch(model, train_loader, criterion, optimizer, device)\n",
    "    train_losses.append(train_loss)\n",
    "\n",
    "    print(f\"Epoch {epoch+1}/{num_epochs}, Loss = {train_loss:.4f}\")"
   ]
  },
  {
   "cell_type": "markdown",
   "metadata": {},
   "source": [
    "### Plot loss and some predictions"
   ]
  },
  {
   "cell_type": "code",
   "execution_count": 19,
   "metadata": {
    "execution": {
     "iopub.execute_input": "2025-02-01T17:47:03.405140Z",
     "iopub.status.busy": "2025-02-01T17:47:03.404838Z",
     "iopub.status.idle": "2025-02-01T17:47:03.580171Z",
     "shell.execute_reply": "2025-02-01T17:47:03.579287Z",
     "shell.execute_reply.started": "2025-02-01T17:47:03.405115Z"
    },
    "trusted": true
   },
   "outputs": [
    {
     "data": {
      "image/png": "[encoded data removed]",
      "text/plain": [
       "<Figure size 1200x500 with 1 Axes>"
      ]
     },
     "metadata": {},
     "output_type": "display_data"
    }
   ],
   "source": [
    "import matplotlib.pyplot as plt\n",
    "\n",
    "# Plot loss curve\n",
    "plt.figure(figsize=(12, 5))\n",
    "plt.subplot(1, 2, 1)\n",
    "plt.plot(range(1, num_epochs+1), train_losses, label=\"Train Loss\", marker='o')\n",
    "plt.xlabel(\"Epochs\")\n",
    "plt.ylabel(\"Loss\")\n",
    "plt.title(\"Loss Curve\")\n",
    "plt.legend()\n",
    "\n",
    "plt.show()"
   ]
  },
  {
   "cell_type": "code",
   "execution_count": 35,
   "metadata": {
    "execution": {
     "iopub.execute_input": "2025-02-01T17:52:19.026064Z",
     "iopub.status.busy": "2025-02-01T17:52:19.025710Z",
     "iopub.status.idle": "2025-02-01T17:52:19.629569Z",
     "shell.execute_reply": "2025-02-01T17:52:19.628795Z",
     "shell.execute_reply.started": "2025-02-01T17:52:19.026029Z"
    },
    "trusted": true
   },
   "outputs": [
    {
     "data": {
      "image/png": "[encoded data removed]",
      "text/plain": [
       "<Figure size 2000x400 with 20 Axes>"
      ]
     },
     "metadata": {},
     "output_type": "display_data"
    }
   ],
   "source": [
    "import matplotlib.pyplot as plt\n",
    "\n",
    "# 🔹 Function to Display Original vs. Reconstructed Images\n",
    "def show_original_vs_reconstructed(model, dataloader, device, num_images=10):\n",
    "    model.eval()  # Set to evaluation mode\n",
    "\n",
    "    # Get a batch of images\n",
    "    images, _ = next(iter(dataloader))\n",
    "    images = images[:num_images].to(device)  # Select 'num_images' samples\n",
    "\n",
    "    # Get reconstructed images\n",
    "    with torch.no_grad():\n",
    "        _, reconstructions = model(images)\n",
    "    reconstructions = reconstructions.cpu()\n",
    "\n",
    "    # Plot original vs reconstructed images\n",
    "    fig, axes = plt.subplots(2, num_images, figsize=(num_images * 2, 4))\n",
    "\n",
    "    for i in range(num_images):\n",
    "        # Original images (Top row)\n",
    "        axes[0, i].imshow(images[i].cpu().squeeze(), cmap=\"gray\")\n",
    "        axes[0, i].axis(\"off\")\n",
    "\n",
    "        # Reconstructed images (Bottom row)\n",
    "        axes[1, i].imshow(reconstructions[i].squeeze(), cmap=\"gray\")\n",
    "        axes[1, i].axis(\"off\")\n",
    "\n",
    "    axes[0, 0].set_title(\"Original Images\", fontsize=12)\n",
    "    axes[1, 0].set_title(\"Reconstructed Images\", fontsize=12)\n",
    "    plt.show()\n",
    "\n",
    "# 🔹 Display Results\n",
    "show_original_vs_reconstructed(model, train_loader, device)\n"
   ]
  },
  {
   "cell_type": "markdown",
   "metadata": {},
   "source": [
    "Let's generate some images:"
   ]
  },
  {
   "cell_type": "code",
   "execution_count": 24,
   "metadata": {
    "execution": {
     "iopub.execute_input": "2025-02-01T17:47:21.282080Z",
     "iopub.status.busy": "2025-02-01T17:47:21.281787Z",
     "iopub.status.idle": "2025-02-01T17:47:21.510734Z",
     "shell.execute_reply": "2025-02-01T17:47:21.509850Z",
     "shell.execute_reply.started": "2025-02-01T17:47:21.282058Z"
    },
    "trusted": true
   },
   "outputs": [
    {
     "data": {
      "image/png": "[encoded data removed]",
      "text/plain": [
       "<Figure size 2000x200 with 10 Axes>"
      ]
     },
     "metadata": {},
     "output_type": "display_data"
    }
   ],
   "source": [
    "import matplotlib.pyplot as plt\n",
    "\n",
    "# 🔹 Function to Generate Images\n",
    "def generate_images(model, num_images=10, encoding_dim=8):\n",
    "    model.eval()  # Set to evaluation mode\n",
    "    \n",
    "    # Generate random encodings from a uniform distribution in [-1,1]\n",
    "    random_encodings = (torch.rand(num_images, encoding_dim).to(device) - 0.5) * 2  \n",
    "    \n",
    "    # Pass through decoder to generate images\n",
    "    with torch.no_grad():\n",
    "        generated_images = model.decoder(random_encodings).cpu()\n",
    "    \n",
    "    # Reshape images\n",
    "    generated_images = generated_images.view(-1, 28, 28)  # Convert to 2D shape\n",
    "\n",
    "    # Plot generated images\n",
    "    fig, axes = plt.subplots(1, num_images, figsize=(num_images * 2, 2))\n",
    "    for i, ax in enumerate(axes.flat):\n",
    "        ax.imshow(generated_images[i], cmap=\"gray\")\n",
    "        ax.axis(\"off\")\n",
    "\n",
    "    plt.suptitle(\"Generated Images from Random Encodings\", fontsize=14)\n",
    "    plt.show()\n",
    "\n",
    "# 🔹 Generate & Display Images\n",
    "generate_images(model, num_images=10, encoding_dim=8)\n"
   ]
  },
  {
   "cell_type": "markdown",
   "metadata": {},
   "source": [
    "Close Enough :)"
   ]
  },
  {
   "cell_type": "markdown",
   "metadata": {},
   "source": [
    "## **🔹 Exercise: Effect of Encoding Dimension on Reconstruction**\n",
    "The **encoding dimension** controls how much information is compressed in the latent space. \n",
    "\n",
    "### **📝 Task**\n",
    "- Try running the model with **different `encoding_dim` values** (e.g., `1, 2, 128, 256`).\n",
    "- Observe how the quality of the **reconstructed images** changes."
   ]
  },
  {
   "cell_type": "markdown",
   "metadata": {},
   "source": [
    "### Contributed by: Mohamed Eltayeb"
   ]
  }
 ],
 "metadata": {
  "accelerator": "GPU",
  "colab": {
   "authorship_tag": "ABX9TyOQG0TCXOQMpleeyT89R+iD",
   "gpuType": "T4",
   "provenance": []
  },
  "kaggle": {
   "accelerator": "gpu",
   "dataSources": [],
   "dockerImageVersionId": 30839,
   "isGpuEnabled": true,
   "isInternetEnabled": true,
   "language": "python",
   "sourceType": "notebook"
  },
  "kernelspec": {
   "display_name": "Python 3",
   "language": "python",
   "name": "python3"
  },
  "language_info": {
   "codemirror_mode": {
    "name": "ipython",
    "version": 3
   },
   "file_extension": ".py",
   "mimetype": "text/x-python",
   "name": "python",
   "nbconvert_exporter": "python",
   "pygments_lexer": "ipython3",
   "version": "3.10.12"
  }
 },
 "nbformat": 4,
 "nbformat_minor": 4
}
